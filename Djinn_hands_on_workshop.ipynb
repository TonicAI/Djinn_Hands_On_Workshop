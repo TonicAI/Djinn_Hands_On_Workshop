{
 "cells": [
  {
   "attachments": {
    "35e1dcc0-7780-45d1-92d7-25e0599fe917.png": {
     "image/png": "[encoded data removed]"
    }
   },
   "cell_type": "markdown",
   "id": "d29377c3-6404-4c15-90a9-684731faf1ce",
   "metadata": {},
   "source": [
    "<img style=\"display: inline;\" src=\"attachment:35e1dcc0-7780-45d1-92d7-25e0599fe917.png\" alt=\"logo\" />\n",
    "<h1 style=\"display: inline;\">Djinn Hands-On Workshop - Notes</h1><br>\n",
    "November 30, 2022"
   ]
  },
  {
   "cell_type": "code",
   "execution_count": 1,
   "id": "4f60bdcc-5ba7-490a-bc27-78ab421c7f44",
   "metadata": {},
   "outputs": [],
   "source": [
    "#importing packages\n",
    "import pandas as pd\n",
    "import numpy as np\n",
    "import matplotlib.pyplot as plt\n",
    "import seaborn as sns\n",
    "\n",
    "from sklearn.model_selection import train_test_split\n",
    "from sklearn.preprocessing import OneHotEncoder, OrdinalEncoder\n",
    "\n",
    "#!pip install catboost\n",
    "from catboost import CatBoostClassifier\n",
    "import xgboost as xgb\n",
    "\n",
    "from sklearn import metrics\n",
    "from sklearn.metrics import roc_auc_score\n",
    "from sklearn.metrics import f1_score\n",
    "from sklearn.metrics import roc_curve, auc\n",
    "from sklearn.metrics import confusion_matrix\n",
    "\n",
    "random_state = 0"
   ]
  },
  {
   "cell_type": "markdown",
   "id": "e72f7b6e-39f6-4f5b-98dc-6fdb21ad332c",
   "metadata": {
    "tags": []
   },
   "source": [
    "## The Dataset\n",
    "<hr>\n",
    "\n",
    "We will use a dataset from [Kaggle](https://www.kaggle.com/datasets/blastchar/telco-customer-churn) to predict customer churn - whether or not a customer has left the service in the last month - from a fictional telecom company, Telco. There are 7,032 rows in this dataset with each representing a customer and their characteristics captured in the 21 columns. These columns include a mix of numeric and categorical features. "
   ]
  },
  {
   "cell_type": "code",
   "execution_count": 2,
   "id": "99771d73-6d89-4ddb-9db5-5b4a2a85c3f4",
   "metadata": {},
   "outputs": [
    {
     "data": {
      "text/html": [
       "<div>\n",
       "<style scoped>\n",
       "    .dataframe tbody tr th:only-of-type {\n",
       "        vertical-align: middle;\n",
       "    }\n",
       "\n",
       "    .dataframe tbody tr th {\n",
       "        vertical-align: top;\n",
       "    }\n",
       "\n",
       "    .dataframe thead th {\n",
       "        text-align: right;\n",
       "    }\n",
       "</style>\n",
       "<table border=\"1\" class=\"dataframe\">\n",
       "  <thead>\n",
       "    <tr style=\"text-align: right;\">\n",
       "      <th></th>\n",
       "      <th>customerid</th>\n",
       "      <th>gender</th>\n",
       "      <th>seniorcitizen</th>\n",
       "      <th>partner</th>\n",
       "      <th>dependents</th>\n",
       "      <th>tenure</th>\n",
       "      <th>phoneservice</th>\n",
       "      <th>multiplelines</th>\n",
       "      <th>internetservice</th>\n",
       "      <th>onlinesecurity</th>\n",
       "      <th>...</th>\n",
       "      <th>deviceprotection</th>\n",
       "      <th>techsupport</th>\n",
       "      <th>streamingtv</th>\n",
       "      <th>streamingmovies</th>\n",
       "      <th>contract</th>\n",
       "      <th>paperlessbilling</th>\n",
       "      <th>paymentmethod</th>\n",
       "      <th>monthlycharges</th>\n",
       "      <th>totalcharges</th>\n",
       "      <th>churn</th>\n",
       "    </tr>\n",
       "  </thead>\n",
       "  <tbody>\n",
       "    <tr>\n",
       "      <th>0</th>\n",
       "      <td>7590-VHVEG</td>\n",
       "      <td>Female</td>\n",
       "      <td>0</td>\n",
       "      <td>Yes</td>\n",
       "      <td>No</td>\n",
       "      <td>1</td>\n",
       "      <td>No</td>\n",
       "      <td>No phone service</td>\n",
       "      <td>DSL</td>\n",
       "      <td>No</td>\n",
       "      <td>...</td>\n",
       "      <td>No</td>\n",
       "      <td>No</td>\n",
       "      <td>No</td>\n",
       "      <td>No</td>\n",
       "      <td>Month-to-month</td>\n",
       "      <td>Yes</td>\n",
       "      <td>Electronic check</td>\n",
       "      <td>29.85</td>\n",
       "      <td>29.85</td>\n",
       "      <td>No</td>\n",
       "    </tr>\n",
       "    <tr>\n",
       "      <th>1</th>\n",
       "      <td>5575-GNVDE</td>\n",
       "      <td>Male</td>\n",
       "      <td>0</td>\n",
       "      <td>No</td>\n",
       "      <td>No</td>\n",
       "      <td>34</td>\n",
       "      <td>Yes</td>\n",
       "      <td>No</td>\n",
       "      <td>DSL</td>\n",
       "      <td>Yes</td>\n",
       "      <td>...</td>\n",
       "      <td>Yes</td>\n",
       "      <td>No</td>\n",
       "      <td>No</td>\n",
       "      <td>No</td>\n",
       "      <td>One year</td>\n",
       "      <td>No</td>\n",
       "      <td>Mailed check</td>\n",
       "      <td>56.95</td>\n",
       "      <td>1889.50</td>\n",
       "      <td>No</td>\n",
       "    </tr>\n",
       "    <tr>\n",
       "      <th>2</th>\n",
       "      <td>3668-QPYBK</td>\n",
       "      <td>Male</td>\n",
       "      <td>0</td>\n",
       "      <td>No</td>\n",
       "      <td>No</td>\n",
       "      <td>2</td>\n",
       "      <td>Yes</td>\n",
       "      <td>No</td>\n",
       "      <td>DSL</td>\n",
       "      <td>Yes</td>\n",
       "      <td>...</td>\n",
       "      <td>No</td>\n",
       "      <td>No</td>\n",
       "      <td>No</td>\n",
       "      <td>No</td>\n",
       "      <td>Month-to-month</td>\n",
       "      <td>Yes</td>\n",
       "      <td>Mailed check</td>\n",
       "      <td>53.85</td>\n",
       "      <td>108.15</td>\n",
       "      <td>Yes</td>\n",
       "    </tr>\n",
       "    <tr>\n",
       "      <th>3</th>\n",
       "      <td>7795-CFOCW</td>\n",
       "      <td>Male</td>\n",
       "      <td>0</td>\n",
       "      <td>No</td>\n",
       "      <td>No</td>\n",
       "      <td>45</td>\n",
       "      <td>No</td>\n",
       "      <td>No phone service</td>\n",
       "      <td>DSL</td>\n",
       "      <td>Yes</td>\n",
       "      <td>...</td>\n",
       "      <td>Yes</td>\n",
       "      <td>Yes</td>\n",
       "      <td>No</td>\n",
       "      <td>No</td>\n",
       "      <td>One year</td>\n",
       "      <td>No</td>\n",
       "      <td>Bank transfer (automatic)</td>\n",
       "      <td>42.30</td>\n",
       "      <td>1840.75</td>\n",
       "      <td>No</td>\n",
       "    </tr>\n",
       "    <tr>\n",
       "      <th>4</th>\n",
       "      <td>9237-HQITU</td>\n",
       "      <td>Female</td>\n",
       "      <td>0</td>\n",
       "      <td>No</td>\n",
       "      <td>No</td>\n",
       "      <td>2</td>\n",
       "      <td>Yes</td>\n",
       "      <td>No</td>\n",
       "      <td>Fiber optic</td>\n",
       "      <td>No</td>\n",
       "      <td>...</td>\n",
       "      <td>No</td>\n",
       "      <td>No</td>\n",
       "      <td>No</td>\n",
       "      <td>No</td>\n",
       "      <td>Month-to-month</td>\n",
       "      <td>Yes</td>\n",
       "      <td>Electronic check</td>\n",
       "      <td>70.70</td>\n",
       "      <td>151.65</td>\n",
       "      <td>Yes</td>\n",
       "    </tr>\n",
       "  </tbody>\n",
       "</table>\n",
       "<p>5 rows × 21 columns</p>\n",
       "</div>"
      ],
      "text/plain": [
       "   customerid  gender  seniorcitizen partner dependents  tenure phoneservice  \\\n",
       "0  7590-VHVEG  Female              0     Yes         No       1           No   \n",
       "1  5575-GNVDE    Male              0      No         No      34          Yes   \n",
       "2  3668-QPYBK    Male              0      No         No       2          Yes   \n",
       "3  7795-CFOCW    Male              0      No         No      45           No   \n",
       "4  9237-HQITU  Female              0      No         No       2          Yes   \n",
       "\n",
       "      multiplelines internetservice onlinesecurity  ... deviceprotection  \\\n",
       "0  No phone service             DSL             No  ...               No   \n",
       "1                No             DSL            Yes  ...              Yes   \n",
       "2                No             DSL            Yes  ...               No   \n",
       "3  No phone service             DSL            Yes  ...              Yes   \n",
       "4                No     Fiber optic             No  ...               No   \n",
       "\n",
       "  techsupport streamingtv streamingmovies        contract paperlessbilling  \\\n",
       "0          No          No              No  Month-to-month              Yes   \n",
       "1          No          No              No        One year               No   \n",
       "2          No          No              No  Month-to-month              Yes   \n",
       "3         Yes          No              No        One year               No   \n",
       "4          No          No              No  Month-to-month              Yes   \n",
       "\n",
       "               paymentmethod monthlycharges  totalcharges  churn  \n",
       "0           Electronic check          29.85         29.85     No  \n",
       "1               Mailed check          56.95       1889.50     No  \n",
       "2               Mailed check          53.85        108.15    Yes  \n",
       "3  Bank transfer (automatic)          42.30       1840.75     No  \n",
       "4           Electronic check          70.70        151.65    Yes  \n",
       "\n",
       "[5 rows x 21 columns]"
      ]
     },
     "execution_count": 2,
     "metadata": {},
     "output_type": "execute_result"
    }
   ],
   "source": [
    "#reading in data\n",
    "telco = pd.read_csv('telco_clean.csv')\n",
    "telco.head()"
   ]
  },
  {
   "cell_type": "code",
   "execution_count": 3,
   "id": "bf56f496-87bc-473c-bf65-2fe678584cd4",
   "metadata": {},
   "outputs": [
    {
     "name": "stdout",
     "output_type": "stream",
     "text": [
      "<class 'pandas.core.frame.DataFrame'>\n",
      "RangeIndex: 7032 entries, 0 to 7031\n",
      "Data columns (total 21 columns):\n",
      " #   Column            Non-Null Count  Dtype  \n",
      "---  ------            --------------  -----  \n",
      " 0   customerid        7032 non-null   object \n",
      " 1   gender            7032 non-null   object \n",
      " 2   seniorcitizen     7032 non-null   int64  \n",
      " 3   partner           7032 non-null   object \n",
      " 4   dependents        7032 non-null   object \n",
      " 5   tenure            7032 non-null   int64  \n",
      " 6   phoneservice      7032 non-null   object \n",
      " 7   multiplelines     7032 non-null   object \n",
      " 8   internetservice   7032 non-null   object \n",
      " 9   onlinesecurity    7032 non-null   object \n",
      " 10  onlinebackup      7032 non-null   object \n",
      " 11  deviceprotection  7032 non-null   object \n",
      " 12  techsupport       7032 non-null   object \n",
      " 13  streamingtv       7032 non-null   object \n",
      " 14  streamingmovies   7032 non-null   object \n",
      " 15  contract          7032 non-null   object \n",
      " 16  paperlessbilling  7032 non-null   object \n",
      " 17  paymentmethod     7032 non-null   object \n",
      " 18  monthlycharges    7032 non-null   float64\n",
      " 19  totalcharges      7032 non-null   float64\n",
      " 20  churn             7032 non-null   object \n",
      "dtypes: float64(2), int64(2), object(17)\n",
      "memory usage: 1.1+ MB\n"
     ]
    }
   ],
   "source": [
    "telco.info()"
   ]
  },
  {
   "cell_type": "markdown",
   "id": "c3cf12ae-eda6-4d3a-babe-f26aca4cd784",
   "metadata": {},
   "source": [
    "## Goal \n",
    "<hr>\n",
    "\n",
    "We want to predict whether or not a customer will Churn (whether or not a customer will leave the service) within the next month. This could allow telco to target these customers with more promotional material or customer service reps reaching out to engage more. To do this we will build a classification model.   "
   ]
  },
  {
   "cell_type": "code",
   "execution_count": 4,
   "id": "d0f24c3c-1615-4e96-b860-3da68b51e1f0",
   "metadata": {},
   "outputs": [
    {
     "data": {
      "image/png": "[encoded data removed]",
      "text/plain": [
       "<Figure size 864x576 with 1 Axes>"
      ]
     },
     "metadata": {
      "needs_background": "light"
     },
     "output_type": "display_data"
    },
    {
     "name": "stdout",
     "output_type": "stream",
     "text": [
      "Proportions of customer churn:\n"
     ]
    },
    {
     "data": {
      "text/plain": [
       "No     0.734215\n",
       "Yes    0.265785\n",
       "Name: churn, dtype: float64"
      ]
     },
     "execution_count": 4,
     "metadata": {},
     "output_type": "execute_result"
    }
   ],
   "source": [
    "#distribution of customer churn\n",
    "def addlabels(x,y):\n",
    "    for i in range(len(x)):\n",
    "        plt.text(i, y[i], y[i], ha = 'center', fontsize=16)\n",
    "\n",
    "plt.figure(figsize=(12,8))\n",
    "plt.bar(telco['churn'].unique(), telco['churn'].value_counts(), color='mediumpurple')\n",
    "plt.title('Telco Customer Churn', fontsize=20)\n",
    "plt.ylabel('Number of customers', fontsize=16)\n",
    "plt.xlabel('Churned', fontsize=16)\n",
    "plt.xticks(fontsize=14)\n",
    "plt.yticks(fontsize=12)\n",
    "addlabels(telco['churn'].unique(), telco['churn'].value_counts())\n",
    "plt.show()\n",
    "\n",
    "print('Proportions of customer churn:')\n",
    "telco['churn'].value_counts(normalize=True)"
   ]
  },
  {
   "cell_type": "markdown",
   "id": "357b4168-4128-4aa3-a2ae-471652119d8d",
   "metadata": {},
   "source": [
    "There is a clear imbalance between customers who churned and did not churn in this datset with there being about 1/3 the customers who've churned versus not. To give our classification model equal opportunity to learn the patterns in each class, we will use Djinn to create synthetic data that mimics the real data to augment the minority class. "
   ]
  },
  {
   "cell_type": "markdown",
   "id": "5f276de8-c788-4ddd-ad8d-5668a37349f5",
   "metadata": {},
   "source": [
    "## Using Djinn to Augment the Minority Class\n",
    "<hr>\n",
    "\n",
    "Since we are going to be modeling with our synthetic data from Djinn, we want to make sure that we are isolating our testing data from our Djinn model. This ensures that the characteristics of the test data don't bleed into the data the model is training on so we can get a true test.\n",
    "\n",
    "Before using Djinn we will define our inputs and outputs as well as perform a train-test-split. "
   ]
  },
  {
   "cell_type": "code",
   "execution_count": 5,
   "id": "dfee8e7f-975f-452b-adee-5d66dd39fef0",
   "metadata": {},
   "outputs": [],
   "source": [
    "#defining inputs and outputs\n",
    "target = 'churn'\n",
    "modeling_columns = [x for x in telco.columns if x != 'customerid']\n",
    "input_columns = [x for x in modeling_columns if x != target]\n",
    "categorical_columns = [x for x in modeling_columns if telco[x].dtype == 'object']"
   ]
  },
  {
   "cell_type": "code",
   "execution_count": 6,
   "id": "4a4e3d8f-ad9e-4c7e-81d5-20b0001001b0",
   "metadata": {},
   "outputs": [],
   "source": [
    "#splitting the data\n",
    "#telco_train, telco_test = train_test_split(telco[modeling_columns], test_size=0.25, random_state=random_state)\n",
    "\n",
    "#saving split data to CSVs to use with Djinn \n",
    "#telco_train.to_csv('telco_train.csv', index=False)\n",
    "#telco_test.to_csv('telco_test.csv', index=False)"
   ]
  },
  {
   "cell_type": "code",
   "execution_count": 7,
   "id": "990f4363-0a6b-48ea-a7f9-64a29d3a6181",
   "metadata": {},
   "outputs": [],
   "source": [
    "telco_train = pd.read_csv('telco_train.csv')\n",
    "telco_test = pd.read_csv('telco_test.csv')"
   ]
  },
  {
   "cell_type": "markdown",
   "id": "03f4038d-8e51-4a60-b32b-886786ef8020",
   "metadata": {},
   "source": [
    "# Let's jump to [Djinn](https://djinn.tonic.ai/login?signup=true)!"
   ]
  },
  {
   "cell_type": "markdown",
   "id": "03b42fd5-0989-4e5c-8d27-f9e4126806a2",
   "metadata": {},
   "source": [
    "We want to make sure that our data types are read in accurately, so we cast the numeric data to their correct datatypes in our SQL query.\n",
    "\n",
    "```sql\n",
    "SELECT\n",
    "    gender,\n",
    "    seniorcitizen,\n",
    "    partner,\n",
    "    dependents,\n",
    "    cast(tenure as int),\n",
    "    phoneservice,\n",
    "    multiplelines,\n",
    "    internetservice,\n",
    "    onlinesecurity,\n",
    "    onlinebackup,\n",
    "    deviceprotection,\n",
    "    techsupport,\n",
    "    streamingtv,\n",
    "    streamingmovies,\n",
    "    contract,\n",
    "    paperlessbilling,\n",
    "    paymentmethod,\n",
    "    cast(monthlycharges as float),\n",
    "    cast(totalcharges as float),\n",
    "    churn\n",
    "FROM telco_train;\n",
    "```"
   ]
  },
  {
   "cell_type": "code",
   "execution_count": null,
   "id": "8da6a232-1436-472a-83c0-e01b83fec2c0",
   "metadata": {},
   "outputs": [],
   "source": [
    "api_token = "
   ]
  },
  {
   "cell_type": "markdown",
   "id": "ab6c2b5a-c8ad-453a-acd3-6aebfb38cd13",
   "metadata": {},
   "source": [
    "### Pulling in Data from Djinn"
   ]
  },
  {
   "cell_type": "code",
   "execution_count": null,
   "id": "55e0de12-e058-4e26-905e-b978263b23ed",
   "metadata": {},
   "outputs": [],
   "source": [
    "#code snippet\n"
   ]
  },
  {
   "cell_type": "code",
   "execution_count": 8,
   "id": "08da808b-d5ef-456c-9469-a2fe13088cdb",
   "metadata": {},
   "outputs": [
    {
     "data": {
      "text/plain": [
       "'We need 2431 data points to balance churned customers to non-churned customers.'"
      ]
     },
     "execution_count": 8,
     "metadata": {},
     "output_type": "execute_result"
    }
   ],
   "source": [
    "#calculating the number of samples needed to balance the data\n",
    "n_samples = telco_train.shape[0]\n",
    "n_churn = telco_train[telco_train['churn'] == 'Yes'].shape[0]\n",
    "n_samples_needed = int((0.5 * n_samples - n_churn) / (1 - 0.5)) + 1 \n",
    "f\"We need {n_samples_needed} data points to balance churned customers to non-churned customers.\"\n"
   ]
  },
  {
   "cell_type": "code",
   "execution_count": null,
   "id": "0c733c43-4e09-47a5-9c35-210825136bc7",
   "metadata": {},
   "outputs": [],
   "source": [
    "#subsetting out data from churned customers\n",
    "churn_samples = sample[sample['churn'] == 'Yes']\n",
    "new_samples = churn_samples[:n_samples_needed]\n",
    "original_samples = telco_train[modeling_columns].copy()\n",
    "\n",
    "#adding our synthetic data to our original training data\n",
    "new_model_train_data = pd.concat([original_samples, new_samples], axis=0).reset_index(drop=True)\n",
    "\n",
    "#testing to ensure our datasets are balanced\n",
    "new_model_train_data['churn'].value_counts(normalize=True)\n"
   ]
  },
  {
   "cell_type": "markdown",
   "id": "c18f9b0d-0950-48be-b45f-01b775a35a49",
   "metadata": {},
   "source": [
    "## Modeling with Djinn data\n",
    "<hr>\n",
    "\n",
    "Now that our dataset is balanced, let's see how our data performs in a model. We are training a CatBoost model here as this model best fits the data. "
   ]
  },
  {
   "cell_type": "code",
   "execution_count": null,
   "id": "08a28a62-9b78-4acb-95bf-47be37bfbda6",
   "metadata": {},
   "outputs": [],
   "source": [
    "#prepping djinn-augmented data for modeling\n",
    "# split data into X&y\n",
    "X_train_djinn = new_model_train_data[input_columns]\n",
    "y_train_djinn = new_model_train_data[target]\n",
    "X_test = telco_test[input_columns]\n",
    "y_test = telco_test[target]\n",
    "\n",
    "#encoding our target \n",
    "y_train_djinn_encoded = y_train_djinn.apply(lambda x : int(x == 'Yes'))\n",
    "y_test_encoded = y_test.apply(lambda x : int(x == 'Yes'))\n",
    "\n",
    "#adding seniorcitizen to categorical columns\n",
    "categorical_columns.append('seniorcitizen')\n",
    "\n",
    "# running our CatBoost model\n",
    "catboost = CatBoostClassifier(silent=True, random_state=7001)\n",
    "\n",
    "        #model\n",
    "djinn_catboost = catboost.fit(X_train_djinn, y_train_djinn_encoded, cat_features=[col for col in categorical_columns if col!=target])\n",
    "      #y proba predictions\n",
    "djinn_catboost_pred_proba = djinn_catboost.predict_proba(X_test)[:,1]\n",
    "      #y predictions\n",
    "djinn_catboost_pred = djinn_catboost.predict(X_test)\n"
   ]
  },
  {
   "cell_type": "code",
   "execution_count": null,
   "id": "956866f2-8273-469b-9054-db7cb41c1a54",
   "metadata": {},
   "outputs": [],
   "source": [
    "#scoring the model with roc auc and f1 scores\n",
    "catboost_fig, axes= plt.subplots(1,2, figsize=(13,5))\n",
    "axes = axes.flatten()\n",
    "catboost_fig.suptitle('Djinn-augmented CatBoost ROC AUC and F1 Scores', fontsize=20)\n",
    "catboost_fig.subplots_adjust(top=0.75) \n",
    "\n",
    "# ROC AUC curve\n",
    "fpr, tpr, _ = metrics.roc_curve(y_test_encoded, djinn_catboost_pred_proba)\n",
    "axes[0].plot(fpr, tpr, color='mediumturquoise', label = f'ROC AUC score: {round(roc_auc_score(y_test_encoded, djinn_catboost_pred_proba), 6)}')\n",
    "axes[0].set_xlabel('False Positive Rate', fontsize=14)\n",
    "axes[0].set_ylabel('True Positive Rate', fontsize=14)\n",
    "axes[0].set_title('Djinn-augmented CatBoost Model \\n ROC Curve', fontsize=20)\n",
    "axes[0].fill_between(fpr, tpr, color='mediumturquoise', alpha=0.3)\n",
    "axes[0].legend(fontsize=12)\n",
    "\n",
    "#confusion matrix\n",
    "cf_matrix=confusion_matrix(y_test_encoded, djinn_catboost_pred, normalize='true')\n",
    "sns.heatmap(cf_matrix, annot=True, cmap=\"GnBu\", fmt='g', vmin=0, vmax=1, ax=axes[1])\n",
    "axes[1].set_title(f\"Djinn-augmented CatBoost Model \\n Confusion Matrix - F1 score: {round(f1_score(y_test_encoded, djinn_catboost_pred), 6)}\", fontsize=20)\n",
    "axes[1].set_xlabel('Predicted values', fontsize=14)\n",
    "axes[1].set_ylabel('True values', fontsize=14)\n",
    "\n",
    "plt.show()"
   ]
  },
  {
   "cell_type": "markdown",
   "id": "46b032b3-1811-49ac-8046-7a7a5564d245",
   "metadata": {},
   "source": [
    "Great! Now we have built a classification model to find which customers will churn with strong results. <br>\n",
    "<br>\n",
    "Check out our [blog post](https://www.tonic.ai/blog/how-to-solve-the-problem-of-imbalanced-datasets-meet-djinn-by-tonic) on using Djinn to augment imbalanced datasets where we go into more detail on data augmentation with Djinn as well as compare the performance of models trained on Djinn, SMOTE, and SMOTE-NC augmented data and see how they all compare to models trained on unaugmented data. "
   ]
  }
 ],
 "metadata": {
  "kernelspec": {
   "display_name": "Python 3 (ipykernel)",
   "language": "python",
   "name": "python3"
  },
  "language_info": {
   "codemirror_mode": {
    "name": "ipython",
    "version": 3
   },
   "file_extension": ".py",
   "mimetype": "text/x-python",
   "name": "python",
   "nbconvert_exporter": "python",
   "pygments_lexer": "ipython3",
   "version": "3.9.7"
  }
 },
 "nbformat": 4,
 "nbformat_minor": 5
}
